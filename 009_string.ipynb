{
 "cells": [
  {
   "cell_type": "markdown",
   "id": "44c43ebb",
   "metadata": {},
   "source": [
    "<h1 style=\"text-align:left;color:brown\">\n",
    "    Getting Started With Python 🐍\n",
    "    <span style=\"float:right;font-size:medium\">\n",
    "      [ notebook : 009 ] 🟡🔴\n",
    "    </span>\n",
    "</h1>\n",
    "<span style=\"float:right;font-size:medium\"><tt>Code by : Jayadev Patil</tt></span>"
   ]
  },
  {
   "cell_type": "markdown",
   "id": "d7035ef5",
   "metadata": {},
   "source": [
    "### <u><strong>Python Basics</strong></u><span style=\"float:right;font-size:medium\"><a href='https://github.com/jayadevnpatil'>github</a></span>\n",
    "This notebook covers <strong>String Data Strucure</strong>\n",
    "\n",
    "------------------------------------------------------------------------------------------------------------------\n",
    "\n",
    "Python Data holders can be categorized into\n",
    "* Basic data types : int, float, string, bool, complex, None\n",
    "* Data Structures : \n",
    "    - Sequenced data : List, Tuple\n",
    "    - Map style data : Dictionary\n",
    "    - Unordered data : Sets\n",
    "\n",
    "* Revisit notebooks 001 to 003 ( for better understanding )\n",
    "\n",
    "<strong style=\"text-align:left;color:green\">Note : This code can be copied and reproduced for educational purposes.</strong>"
   ]
  },
  {
   "cell_type": "markdown",
   "id": "64c47eaa",
   "metadata": {},
   "source": [
    "------------------------------------------------------------------------------------------------------------------\n",
    "\n",
    "### 7.1 String\n",
    "\n",
    "**Strings** are ordered text based data which are represented by enclosing the same in single/double/triple quotes."
   ]
  },
  {
   "cell_type": "code",
   "execution_count": 1,
   "id": "b8d8e984",
   "metadata": {},
   "outputs": [],
   "source": [
    "# All declarations are valid.\n",
    "s1 = 'Learning python'\n",
    "s2 = \"Learning python\"\n",
    "s3 = '''Learning python'''\n",
    "s4 = \"\"\"Learning python\"\"\""
   ]
  },
  {
   "cell_type": "markdown",
   "id": "64f58e8c",
   "metadata": {
    "jp-MarkdownHeadingCollapsed": true
   },
   "source": [
    "------------------------------------------------------------------------------------------------------------------\n",
    "#### 7.1.1  <strong><tt>len()</tt></strong> function.\n",
    "String can be seen as a sequence of characters, hence length of the string is essentially number of characters in string, which could be found out by <strong><tt>len()</tt></strong>"
   ]
  },
  {
   "cell_type": "code",
   "execution_count": 2,
   "id": "7d45756d",
   "metadata": {},
   "outputs": [
    {
     "name": "stdout",
     "output_type": "stream",
     "text": [
      "26\n"
     ]
    }
   ],
   "source": [
    "alphabets = \"abcdefghijklmnopqrstuvwxyz\"\n",
    "print(len(alphabets))"
   ]
  },
  {
   "cell_type": "markdown",
   "id": "a848e9c6",
   "metadata": {
    "jp-MarkdownHeadingCollapsed": true
   },
   "source": [
    "------------------------------------------------------------------------------------------------------------------\n",
    "#### 7.1.2 String slicing and Indexing\n",
    "Strings slicing could be done using the indexes.<br><tt>[start: end: update]</tt>\n",
    "\n",
    "string|a|n|a|c|o|n|d|a\n",
    "------|-|-|-|-|-|-|-|-\n",
    "forward index|0|1|2|3|4|5|6|7\n",
    "reverse index|-8|-7|-6|-5|-4|-3|-2|-1\n"
   ]
  },
  {
   "cell_type": "code",
   "execution_count": 3,
   "id": "3bb219f7",
   "metadata": {},
   "outputs": [
    {
     "name": "stdout",
     "output_type": "stream",
     "text": [
      "['a', 'n', 'a', 'c', 'o', 'n', 'd', 'a']\n"
     ]
    }
   ],
   "source": [
    "s = 'anaconda'\n",
    "print(list(s))"
   ]
  },
  {
   "cell_type": "code",
   "execution_count": 4,
   "id": "de20662e",
   "metadata": {},
   "outputs": [
    {
     "name": "stdout",
     "output_type": "stream",
     "text": [
      "o\n",
      "d\n",
      "anaco\n",
      "conda\n",
      "acon\n",
      "anaco\n",
      "adnocana\n"
     ]
    }
   ],
   "source": [
    "s = 'anaconda'\n",
    "\n",
    "print(s[4])    # pick an element\n",
    "print(s[-2])   # access from negetive index\n",
    "print(s[:5])   # from start\n",
    "print(s[3:])   # till end\n",
    "print(s[2:6])  # in between\n",
    "print(s[:-3])  # reverse index\n",
    "print(s[::-1]) # negetive index update "
   ]
  },
  {
   "cell_type": "markdown",
   "id": "31ddd622",
   "metadata": {
    "jp-MarkdownHeadingCollapsed": true
   },
   "source": [
    "------------------------------------------------------------------------------------------------------------------\n",
    "#### 7.1.3 case handling\n",
    "* <tt>lower() :</tt> converts all letters to lower case.\n",
    "* <tt>upper() :</tt> converts all letters to upper case.\n",
    "* <tt>capitalize() :</tt> converts first letter to upper case.\n",
    "* <tt>swapcase() :</tt> swaps the case of each letter in the strin"
   ]
  },
  {
   "cell_type": "code",
   "execution_count": 5,
   "id": "0d544d12",
   "metadata": {},
   "outputs": [
    {
     "name": "stdout",
     "output_type": "stream",
     "text": [
      "anaconda\n",
      "ANACONDA\n",
      "Anaconda\n",
      "ANAconda\n"
     ]
    }
   ],
   "source": [
    "s = 'anaCONDA'\n",
    "\n",
    "print(s.lower())\n",
    "print(s.upper())\n",
    "print(s.capitalize())\n",
    "print(s.swapcase())"
   ]
  },
  {
   "cell_type": "markdown",
   "id": "8076b5ee",
   "metadata": {
    "jp-MarkdownHeadingCollapsed": true
   },
   "source": [
    "------------------------------------------------------------------------------------------------------------------\n",
    "#### 7.1.4 string strip-methods\n",
    "* <tt>strip() :</tt> removes all the white spaces ( default ) from left and right side of the string.\n",
    "* <tt>rstrip() :</tt> removes all the white spaces ( default ) from right side.\n",
    "* <tt>lstrip() :</tt> removes all the white spaces ( default ) from left side.\n",
    "* If characters is specified in the argument, it will be stripped"
   ]
  },
  {
   "cell_type": "code",
   "execution_count": 6,
   "id": "d22580fc",
   "metadata": {},
   "outputs": [
    {
     "name": "stdout",
     "output_type": "stream",
     "text": [
      "anaconda\n",
      "***~~~anaconda\n",
      "~~~anaconda~~~***\n"
     ]
    }
   ],
   "source": [
    "s = '***~~~anaconda~~~***'\n",
    "print(s.strip('*~'))  \n",
    "print(s.rstrip('*~'))\n",
    "print(s.lstrip('*'))"
   ]
  },
  {
   "cell_type": "markdown",
   "id": "6101fb2e",
   "metadata": {
    "jp-MarkdownHeadingCollapsed": true
   },
   "source": [
    "------------------------------------------------------------------------------------------------------------------\n",
    "#### 7.1.5 some more \n",
    "* <tt>startswith() :</tt> returns True if string starts with argument value, else False.\n",
    "* <tt>endswith() :</tt> returns True if string ends with argument value, else False.\n",
    "* <tt>replace() :</tt> replaces the first argument value with the second, in a string.\n",
    "* <tt>center() :</tt> string characters are aligned at the center within specified fieldwidth."
   ]
  },
  {
   "cell_type": "code",
   "execution_count": 7,
   "id": "7ffc1a7b",
   "metadata": {},
   "outputs": [
    {
     "name": "stdout",
     "output_type": "stream",
     "text": [
      "False\n",
      "True\n",
      "have a bright day\n",
      "       have a nice day        \n",
      "-------have a nice day--------\n"
     ]
    }
   ],
   "source": [
    "s = 'have a nice day'\n",
    "\n",
    "print(s.startswith('nice'))  \n",
    "print(s.endswith('day'))\n",
    "\n",
    "print(s.replace('nice','bright'))\n",
    "print(s.center(30))\n",
    "print(s.center(30,'-'))"
   ]
  },
  {
   "cell_type": "markdown",
   "id": "fe194484",
   "metadata": {
    "jp-MarkdownHeadingCollapsed": true
   },
   "source": [
    "------------------------------------------------------------------------------------------------------------------\n",
    "#### 7.1.6 is -keyword methods\n",
    "* <tt>isupper() :</tt> True if all characters within a string are upper case.\n",
    "* <tt>islower() :</tt> True if all characters within a string are lower case.\n",
    "* <tt>isspace() :</tt> True if string has all whitespaces.\n",
    "* <tt>isaplha() :</tt> True if string contains only alphabets\n",
    "* <tt>isalnum() :</tt> True if string contains only alphabets and numerals, but not special characters"
   ]
  },
  {
   "cell_type": "code",
   "execution_count": 8,
   "id": "ff6c558b",
   "metadata": {},
   "outputs": [
    {
     "name": "stdout",
     "output_type": "stream",
     "text": [
      "True\n",
      "False\n",
      "False\n",
      "True\n"
     ]
    }
   ],
   "source": [
    "s1 = 'PYTHON WORLD'\n",
    "s2 = 'Python world'\n",
    "s3 = '            '\n",
    "\n",
    "print(s1.isupper())\n",
    "print(s2.islower())\n",
    "print(s2.isspace())\n",
    "print(s3.isspace())"
   ]
  },
  {
   "cell_type": "code",
   "execution_count": 9,
   "id": "143445d5",
   "metadata": {},
   "outputs": [
    {
     "name": "stdout",
     "output_type": "stream",
     "text": [
      "True\n",
      "False\n",
      "True\n",
      "False\n"
     ]
    }
   ],
   "source": [
    "s1 = 'PythonWorld'\n",
    "s2 = 'PythonWorld123'\n",
    "s3 = 'PythonWorld!!!'\n",
    "\n",
    "print(s1.isalpha())\n",
    "print(s2.isalpha())\n",
    "\n",
    "print(s2.isalnum())\n",
    "print(s3.isalnum())"
   ]
  },
  {
   "cell_type": "markdown",
   "id": "fb73108d",
   "metadata": {
    "jp-MarkdownHeadingCollapsed": true
   },
   "source": [
    "------------------------------------------------------------------------------------------------------------------\n",
    "#### 7.1.7 split() and join() method\n",
    "\n",
    "* <tt>split() :</tt> Splits the given string at specified instances and resturns seperated string as list.\n",
    "* <tt>join() :</tt> method is used to join set of string/ character values."
   ]
  },
  {
   "cell_type": "code",
   "execution_count": 10,
   "id": "b8a6db71",
   "metadata": {},
   "outputs": [
    {
     "name": "stdout",
     "output_type": "stream",
     "text": [
      "['have', 'a', 'nice', 'day']\n"
     ]
    }
   ],
   "source": [
    "s = 'have a nice day'\n",
    "print(s.split())"
   ]
  },
  {
   "cell_type": "code",
   "execution_count": 11,
   "id": "5fa9ba4a",
   "metadata": {},
   "outputs": [
    {
     "name": "stdout",
     "output_type": "stream",
     "text": [
      "ThankYou!!!\n",
      "Thank You !!!\n",
      "Thank$You$!!!\n"
     ]
    }
   ],
   "source": [
    "a = ['Thank','You','!!!']\n",
    "print(''.join(a))\n",
    "print(' '.join(a))\n",
    "print('$'.join(a))"
   ]
  },
  {
   "cell_type": "markdown",
   "id": "480b97bc",
   "metadata": {
    "jp-MarkdownHeadingCollapsed": true
   },
   "source": [
    "------------------------------------------------------------------------------------------------------------------\n",
    "#### 7.1.8 Some more important methods\n",
    "* <tt>count() :</tt> returns the number of occurances of value inside a string.\n",
    "* <tt>find() :</tt> returns the index of the first occurance of given value, else -1.\n",
    "* <tt>index() :</tt> returns the index of the first occurance of given value, else ValueError."
   ]
  },
  {
   "cell_type": "code",
   "execution_count": 12,
   "id": "54881377",
   "metadata": {},
   "outputs": [
    {
     "name": "stdout",
     "output_type": "stream",
     "text": [
      "3\n",
      "2\n",
      "1\n"
     ]
    }
   ],
   "source": [
    "a = 'anaconda'\n",
    "print(a.count('a'))\n",
    "print(a.count('n'))\n",
    "print(a.count('conda'))"
   ]
  },
  {
   "cell_type": "code",
   "execution_count": 13,
   "id": "78fb0006",
   "metadata": {},
   "outputs": [
    {
     "name": "stdout",
     "output_type": "stream",
     "text": [
      "3\n",
      "-1\n"
     ]
    }
   ],
   "source": [
    "a = 'anaconda'\n",
    "print(a.find('c'))\n",
    "print(a.find('q'))"
   ]
  },
  {
   "cell_type": "code",
   "execution_count": 14,
   "id": "be3a7b2b",
   "metadata": {},
   "outputs": [
    {
     "name": "stdout",
     "output_type": "stream",
     "text": [
      "3\n"
     ]
    },
    {
     "ename": "ValueError",
     "evalue": "substring not found",
     "output_type": "error",
     "traceback": [
      "\u001b[1;31m---------------------------------------------------------------------------\u001b[0m",
      "\u001b[1;31mValueError\u001b[0m                                Traceback (most recent call last)",
      "Cell \u001b[1;32mIn[14], line 3\u001b[0m\n\u001b[0;32m      1\u001b[0m a \u001b[38;5;241m=\u001b[39m \u001b[38;5;124m'\u001b[39m\u001b[38;5;124manaconda\u001b[39m\u001b[38;5;124m'\u001b[39m\n\u001b[0;32m      2\u001b[0m \u001b[38;5;28mprint\u001b[39m(a\u001b[38;5;241m.\u001b[39mindex(\u001b[38;5;124m'\u001b[39m\u001b[38;5;124mc\u001b[39m\u001b[38;5;124m'\u001b[39m))\n\u001b[1;32m----> 3\u001b[0m \u001b[38;5;28mprint\u001b[39m(\u001b[43ma\u001b[49m\u001b[38;5;241;43m.\u001b[39;49m\u001b[43mindex\u001b[49m\u001b[43m(\u001b[49m\u001b[38;5;124;43m'\u001b[39;49m\u001b[38;5;124;43mq\u001b[39;49m\u001b[38;5;124;43m'\u001b[39;49m\u001b[43m)\u001b[49m)\n",
      "\u001b[1;31mValueError\u001b[0m: substring not found"
     ]
    }
   ],
   "source": [
    "a = 'anaconda'\n",
    "print(a.index('c'))\n",
    "print(a.index('q'))"
   ]
  },
  {
   "cell_type": "markdown",
   "id": "0c6905fe",
   "metadata": {},
   "source": [
    "------------------------------------------------------------------------------------------------------------------\n",
    "#### 7.1.9 Explore : \n",
    "<tt>zfill(), </tt><tt>expandtabs()</tt>"
   ]
  }
 ],
 "metadata": {
  "kernelspec": {
   "display_name": "Python 3 (ipykernel)",
   "language": "python",
   "name": "python3"
  },
  "language_info": {
   "codemirror_mode": {
    "name": "ipython",
    "version": 3
   },
   "file_extension": ".py",
   "mimetype": "text/x-python",
   "name": "python",
   "nbconvert_exporter": "python",
   "pygments_lexer": "ipython3",
   "version": "3.9.18"
  }
 },
 "nbformat": 4,
 "nbformat_minor": 5
}
