{
 "cells": [
  {
   "cell_type": "markdown",
   "id": "98daedc0",
   "metadata": {},
   "source": [
    "<h1 style=\"text-align:left;color:brown\">\n",
    "    Getting Started With Python 🐍\n",
    "    <span style=\"float:right;font-size:medium\">\n",
    "      [ notebook : 001 ] 🟡🔴\n",
    "    </span>\n",
    "</h1>\n",
    "<span style=\"float:right;font-size:medium\"><tt>Code by : Jayadev Patil</tt></span>"
   ]
  },
  {
   "cell_type": "markdown",
   "id": "a50c4642",
   "metadata": {},
   "source": [
    "## <u><strong>Python Basics</strong></u><span style=\"float:right;font-size:medium\"><a href='https://github.com/jayadevnpatil'>github</a></span>\n",
    "This notebook covers <tt><strong>print()</strong></tt>\n",
    "* print signle line\n",
    "* print multiple lines\n",
    "* *syntax* <tt><strong>end = </strong></tt>\n",
    "* *syntax* <tt><strong>sep = </strong></tt>\n",
    "\n",
    "<strong style=\"text-align:left;color:green\">Note : This code can be copied and reproduced for educational purposes.</strong> \n"
   ]
  },
  {
   "cell_type": "markdown",
   "id": "2b4c9639",
   "metadata": {
    "jp-MarkdownHeadingCollapsed": true
   },
   "source": [
    "------------------------------------------------------------------------------------------------------------\n",
    "### 1.1    print single line"
   ]
  },
  {
   "cell_type": "code",
   "execution_count": 1,
   "id": "ae127bc5",
   "metadata": {},
   "outputs": [
    {
     "name": "stdout",
     "output_type": "stream",
     "text": [
      "Hello World!\n"
     ]
    }
   ],
   "source": [
    "print('Hello World!')"
   ]
  },
  {
   "cell_type": "code",
   "execution_count": 2,
   "id": "2f421190",
   "metadata": {},
   "outputs": [
    {
     "name": "stdout",
     "output_type": "stream",
     "text": [
      "Hello World!\n"
     ]
    }
   ],
   "source": [
    "print(\"Hello World!\")"
   ]
  },
  {
   "cell_type": "code",
   "execution_count": 3,
   "id": "5850eb6b",
   "metadata": {},
   "outputs": [
    {
     "ename": "SyntaxError",
     "evalue": "EOL while scanning string literal (3721198893.py, line 2)",
     "output_type": "error",
     "traceback": [
      "\u001b[1;36m  Cell \u001b[1;32mIn[3], line 2\u001b[1;36m\u001b[0m\n\u001b[1;33m    print(\"Hello World')\u001b[0m\n\u001b[1;37m                        ^\u001b[0m\n\u001b[1;31mSyntaxError\u001b[0m\u001b[1;31m:\u001b[0m EOL while scanning string literal\n"
     ]
    }
   ],
   "source": [
    "# Error : opening quote --> \" colsing quote --> '\n",
    "print(\"Hello World')"
   ]
  },
  {
   "cell_type": "markdown",
   "id": "a3a30ff7",
   "metadata": {
    "jp-MarkdownHeadingCollapsed": true
   },
   "source": [
    "------------------------------------------------------------------------------------------------------------------\n",
    "### 1.2    print multiple lines"
   ]
  },
  {
   "cell_type": "code",
   "execution_count": 4,
   "id": "68565d52",
   "metadata": {},
   "outputs": [
    {
     "name": "stdout",
     "output_type": "stream",
     "text": [
      "Hello\n",
      "Hubballi\n"
     ]
    }
   ],
   "source": [
    "print('Hello')\n",
    "print('Hubballi')"
   ]
  },
  {
   "cell_type": "code",
   "execution_count": 5,
   "id": "178c1a2b",
   "metadata": {},
   "outputs": [
    {
     "name": "stdout",
     "output_type": "stream",
     "text": [
      "Hello \n",
      " Hubballi\n"
     ]
    }
   ],
   "source": [
    "print('Hello \\n Hubballi')"
   ]
  },
  {
   "cell_type": "code",
   "execution_count": 6,
   "id": "228cd698",
   "metadata": {},
   "outputs": [
    {
     "name": "stdout",
     "output_type": "stream",
     "text": [
      "\n",
      "Hello\n",
      "Hubballi\n"
     ]
    }
   ],
   "source": [
    "# What if a paragraph\n",
    "print('''\n",
    "Hello\n",
    "Hubballi''')"
   ]
  },
  {
   "cell_type": "code",
   "execution_count": 7,
   "id": "9ed84d33",
   "metadata": {},
   "outputs": [
    {
     "name": "stdout",
     "output_type": "stream",
     "text": [
      "\n",
      "Hello\n",
      "Hubballi\n"
     ]
    }
   ],
   "source": [
    "print(\"\"\"\n",
    "Hello\n",
    "Hubballi\"\"\")"
   ]
  },
  {
   "cell_type": "markdown",
   "id": "01022ea1",
   "metadata": {
    "jp-MarkdownHeadingCollapsed": true
   },
   "source": [
    "------------------------------------------------------------------------------------------------------------------\n",
    "### 1.3 use of  '<tt><strong>end = </strong></tt>'"
   ]
  },
  {
   "cell_type": "code",
   "execution_count": 8,
   "id": "04b3fb85",
   "metadata": {},
   "outputs": [
    {
     "name": "stdout",
     "output_type": "stream",
     "text": [
      "Hello@World\n"
     ]
    }
   ],
   "source": [
    "print('Hello',end='@')\n",
    "print('World')"
   ]
  },
  {
   "cell_type": "markdown",
   "id": "76691047-d000-4921-a90b-d57384e8c39d",
   "metadata": {
    "jp-MarkdownHeadingCollapsed": true
   },
   "source": [
    "------------------------------------------------------------------------------------------------------------------\n",
    "### 1.4 use of '<tt><strong>sep = </strong></tt>'"
   ]
  },
  {
   "cell_type": "code",
   "execution_count": 9,
   "id": "9a42b9f2-cb28-4168-8cdd-d2aec5533b92",
   "metadata": {},
   "outputs": [
    {
     "name": "stdout",
     "output_type": "stream",
     "text": [
      "1-2-3-4-5-6\n"
     ]
    }
   ],
   "source": [
    "print('1','2','3','4','5','6', sep='-')"
   ]
  }
 ],
 "metadata": {
  "kernelspec": {
   "display_name": "Python 3 (ipykernel)",
   "language": "python",
   "name": "python3"
  },
  "language_info": {
   "codemirror_mode": {
    "name": "ipython",
    "version": 3
   },
   "file_extension": ".py",
   "mimetype": "text/x-python",
   "name": "python",
   "nbconvert_exporter": "python",
   "pygments_lexer": "ipython3",
   "version": "3.9.18"
  }
 },
 "nbformat": 4,
 "nbformat_minor": 5
}
