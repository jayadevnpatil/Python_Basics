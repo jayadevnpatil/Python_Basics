{
 "cells": [
  {
   "cell_type": "markdown",
   "id": "7ef6e370-5a0c-41bf-a8df-983c2b1af193",
   "metadata": {},
   "source": [
    "<h1 style=\"text-align:left;color:brown\">\n",
    "    Getting Started With Python 🐍\n",
    "    <span style=\"float:right;font-size:medium\">\n",
    "      [ notebook : 007 ] 🟡🔴\n",
    "    </span>\n",
    "</h1>\n",
    "<span style=\"float:right;font-size:medium\"><tt>Code by : Jayadev Patil</tt></span>"
   ]
  },
  {
   "cell_type": "markdown",
   "id": "7f03ced1-9ab1-46ce-92cf-62f083f6da00",
   "metadata": {},
   "source": [
    "## <u><strong>Python Basics</strong></u><span style=\"float:right;font-size:medium\"><a href='https://github.com/jayadevnpatil'>github</a></span>\n",
    "This notebook covers <tt><strong>Control Flow Statements</strong></tt>\n",
    "* <strong><tt>if, else, nested if else, elif</strong></tt>\n",
    "* <strong><tt>and, or, not</strong></tt>\n",
    "* <strong><tt>range</strong></tt>\n",
    "* <strong><tt>for</strong></tt>\n",
    "* <strong><tt>while</strong></tt>\n",
    "* <strong><tt>break, continue, pass</strong></tt>\n",
    "\n",
    "<strong style=\"text-align:left;color:green\">Note : This code can be copied and reproduced for educational purposes.</strong> \n",
    "\n",
    "----------------------------------------------------------------------------------------------------------------\n",
    "## Control flow statements\n",
    "\n",
    "Control flow statements are fundamental constructs in programming that determine the order in which a program's instructions are executed. "
   ]
  },
  {
   "cell_type": "code",
   "execution_count": 11,
   "id": "6aa3dcbc-8373-450b-b667-7e5f3cd2ec8b",
   "metadata": {},
   "outputs": [
    {
     "name": "stdout",
     "output_type": "stream",
     "text": [
      "Python 3.9.18\n"
     ]
    }
   ],
   "source": [
    "!python --version"
   ]
  },
  {
   "cell_type": "markdown",
   "id": "372b066b-9531-4a21-868a-16a37c71ec6e",
   "metadata": {
    "jp-MarkdownHeadingCollapsed": true
   },
   "source": [
    "### 12.1 if, else, nested if-else, elif\n",
    "\n",
    "These are the conditional statements used for decision making."
   ]
  },
  {
   "cell_type": "markdown",
   "id": "4c7d279c-ce84-43e2-b52a-30061eda2730",
   "metadata": {
    "jp-MarkdownHeadingCollapsed": true
   },
   "source": [
    "#### 12.1.1 <strong><tt>if()</tt></strong> statement\n",
    " The \"if\" statement is used to execute a block of code if a specified condition is true. "
   ]
  },
  {
   "cell_type": "code",
   "execution_count": 1,
   "id": "eb65a968-513d-41ce-a487-5bfb930cc44a",
   "metadata": {},
   "outputs": [
    {
     "name": "stdout",
     "output_type": "stream",
     "text": [
      "It is cold\n"
     ]
    }
   ],
   "source": [
    "temperature = 18\n",
    "\n",
    "if temperature < 20 :\n",
    "    print(\"It is cold\")"
   ]
  },
  {
   "cell_type": "markdown",
   "id": "e512b8c7-db98-4360-8b9b-1e299693d8b4",
   "metadata": {
    "jp-MarkdownHeadingCollapsed": true
   },
   "source": [
    "#### 12.1.2 <strong><tt>else</tt></strong> statement\n",
    "The \"else\" statement is paired with an \"if\" statement and is used to execute a block of code if the condition specified in the \"if\" statement is false."
   ]
  },
  {
   "cell_type": "code",
   "execution_count": 2,
   "id": "05329eab-c02c-40f9-89c4-78e08cb7f951",
   "metadata": {},
   "outputs": [
    {
     "name": "stdout",
     "output_type": "stream",
     "text": [
      "It's not cold\n"
     ]
    }
   ],
   "source": [
    "temperature = 25\n",
    "\n",
    "if temperature < 20 :\n",
    "    print(\"It is cold\")\n",
    "else:\n",
    "    print(\"It's not cold\")"
   ]
  },
  {
   "cell_type": "markdown",
   "id": "cbe53596-a4ef-49f0-8421-d65f8ff86207",
   "metadata": {
    "jp-MarkdownHeadingCollapsed": true
   },
   "source": [
    "#### 12.1.3 nested if-else"
   ]
  },
  {
   "cell_type": "code",
   "execution_count": 4,
   "id": "8c0da067-6956-449e-aab5-8c6f8b426da5",
   "metadata": {},
   "outputs": [
    {
     "name": "stdout",
     "output_type": "stream",
     "text": [
      "It is cold\n"
     ]
    }
   ],
   "source": [
    "temperature = 18\n",
    "\n",
    "if temperature <=30 :\n",
    "    if temperature <20:\n",
    "        print(\"It is cold\")\n",
    "    else:\n",
    "        print(\"It is ambient\")\n",
    "else:\n",
    "    print(\"It is hot\")"
   ]
  },
  {
   "cell_type": "markdown",
   "id": "33c8ad61-fe79-41de-b845-4818f005e0f8",
   "metadata": {
    "jp-MarkdownHeadingCollapsed": true
   },
   "source": [
    "#### 12.1.4 <strong><tt>elif</tt></strong> statement\n",
    " Short for \"else if,\" the \"elif\" statement is used to check multiple conditions sequentially after an initial \"if\" statement."
   ]
  },
  {
   "cell_type": "code",
   "execution_count": 1,
   "id": "67d8711e-b57e-4815-91ff-b474b77faab7",
   "metadata": {},
   "outputs": [
    {
     "name": "stdout",
     "output_type": "stream",
     "text": [
      "It is hot\n"
     ]
    }
   ],
   "source": [
    "temperature = 33\n",
    "\n",
    "if temperature < 20 :\n",
    "    print(\"It is cold\")\n",
    "elif temperature >= 20 and temperature <= 30:\n",
    "    print(\"It is ambient\")\n",
    "else:\n",
    "    print(\"It is hot\")"
   ]
  },
  {
   "cell_type": "markdown",
   "id": "6d6c5584-6762-4bc7-abf0-259bea7d16cd",
   "metadata": {
    "jp-MarkdownHeadingCollapsed": true
   },
   "source": [
    "#### 12.1.5 short hand for if-else statments"
   ]
  },
  {
   "cell_type": "code",
   "execution_count": 1,
   "id": "2ff657d2-633f-45f1-890d-df17fb7e98c3",
   "metadata": {},
   "outputs": [
    {
     "name": "stdout",
     "output_type": "stream",
     "text": [
      "Good Morning\n"
     ]
    }
   ],
   "source": [
    "isMorning = True\n",
    "\n",
    "print(\"Good Morning\") if isMorning else print(\"Good Evening\")"
   ]
  },
  {
   "cell_type": "markdown",
   "id": "adef4b3b-3474-4b52-8e76-dd49b622e963",
   "metadata": {
    "jp-MarkdownHeadingCollapsed": true
   },
   "source": [
    "### 12.2 Logical operators with conditional statements"
   ]
  },
  {
   "cell_type": "markdown",
   "id": "5f6ca0e6-09fb-46a7-a1c4-62e5eee49d17",
   "metadata": {
    "jp-MarkdownHeadingCollapsed": true
   },
   "source": [
    "#### 12.2.1 <strong><tt>and</tt></strong> operator"
   ]
  },
  {
   "cell_type": "code",
   "execution_count": 2,
   "id": "0460cdcc-a3e5-4a17-972e-4aef8d65860b",
   "metadata": {},
   "outputs": [
    {
     "name": "stdout",
     "output_type": "stream",
     "text": [
      "Maybe another time.\n"
     ]
    }
   ],
   "source": [
    "is_weekend = True  \n",
    "has_enough_money = False\n",
    "\n",
    "if is_weekend and has_enough_money:\n",
    "    print(\"Let's go to the concert!\")\n",
    "else:\n",
    "    print(\"Maybe another time.\")\n"
   ]
  },
  {
   "cell_type": "markdown",
   "id": "df0e6b10-6c7a-4b34-9d03-6dd5df3a386b",
   "metadata": {
    "jp-MarkdownHeadingCollapsed": true
   },
   "source": [
    "#### 12.2.2 <strong><tt>or</tt></strong> operator"
   ]
  },
  {
   "cell_type": "code",
   "execution_count": 3,
   "id": "f1c29b4c-4904-445a-86fd-8100fd6a80a4",
   "metadata": {},
   "outputs": [
    {
     "name": "stdout",
     "output_type": "stream",
     "text": [
      "Go to office\n"
     ]
    }
   ],
   "source": [
    "isWeekday = False\n",
    "isWorkPending = True\n",
    "\n",
    "if isWeekday or isWorkPending:\n",
    "    print(\"Go to office\")\n",
    "else:\n",
    "    print(\"rest at home\")"
   ]
  },
  {
   "cell_type": "markdown",
   "id": "13455c56-d693-4c08-98a1-cc88887f2c63",
   "metadata": {
    "jp-MarkdownHeadingCollapsed": true
   },
   "source": [
    "#### 12.2.3 <strong><tt>not</tt></strong> operator"
   ]
  },
  {
   "cell_type": "code",
   "execution_count": 4,
   "id": "c40506c6-2469-44ac-a6cd-0f897635fbb6",
   "metadata": {},
   "outputs": [
    {
     "name": "stdout",
     "output_type": "stream",
     "text": [
      "Let's go for walk\n"
     ]
    }
   ],
   "source": [
    "is_raining = False\n",
    "\n",
    "if not is_raining:\n",
    "    print(\"Let's go for walk\")"
   ]
  },
  {
   "cell_type": "markdown",
   "id": "5b49d1a5-1a6c-410f-a358-1367b4f8f1dc",
   "metadata": {
    "jp-MarkdownHeadingCollapsed": true
   },
   "source": [
    "### 12.3 <strong><tt>range()</strong></tt> function\n",
    "the range function is used to generate a sequence of numbers."
   ]
  },
  {
   "cell_type": "markdown",
   "id": "e4cc711a-d2ef-47d3-9bca-92b48c911102",
   "metadata": {
    "jp-MarkdownHeadingCollapsed": true
   },
   "source": [
    "#### 12.3.1 <strong><tt>range(stop)</strong></tt>\n",
    "Generates a sequence of numbers from 0 up to"
   ]
  },
  {
   "cell_type": "code",
   "execution_count": 5,
   "id": "98908439-3606-4ced-87e7-460b0343c457",
   "metadata": {},
   "outputs": [
    {
     "data": {
      "text/plain": [
       "range(0, 10)"
      ]
     },
     "execution_count": 5,
     "metadata": {},
     "output_type": "execute_result"
    }
   ],
   "source": [
    "range(10)"
   ]
  },
  {
   "cell_type": "code",
   "execution_count": 6,
   "id": "33f4038f-56b6-495b-a5a6-b24ac7a229c5",
   "metadata": {},
   "outputs": [
    {
     "data": {
      "text/plain": [
       "[0, 1, 2, 3, 4, 5, 6, 7, 8, 9]"
      ]
     },
     "execution_count": 6,
     "metadata": {},
     "output_type": "execute_result"
    }
   ],
   "source": [
    "list(range(10))"
   ]
  },
  {
   "cell_type": "markdown",
   "id": "c371c57b-dd1c-4759-8e94-3891720cc64f",
   "metadata": {
    "jp-MarkdownHeadingCollapsed": true
   },
   "source": [
    "#### 12.3.2 <strong><tt>range(start, stop)</strong></tt>\n",
    "Generates a sequence of numbers starting from the \"start\" value and ending just before the \"stop\" value. F"
   ]
  },
  {
   "cell_type": "code",
   "execution_count": 7,
   "id": "c6784c08-64ce-468e-8551-9ce3a25d9d43",
   "metadata": {},
   "outputs": [
    {
     "data": {
      "text/plain": [
       "[5, 6, 7, 8, 9]"
      ]
     },
     "execution_count": 7,
     "metadata": {},
     "output_type": "execute_result"
    }
   ],
   "source": [
    "list(range(5,10))"
   ]
  },
  {
   "cell_type": "markdown",
   "id": "265ad3ef-b945-42d2-8470-3c501681195a",
   "metadata": {
    "jp-MarkdownHeadingCollapsed": true
   },
   "source": [
    "#### 12.3.3 <strong><tt>range(start, stop, step)</strong></tt>\n",
    "Allows you to specify a step size, so the sequence of numbers is generated with a specific interval between them"
   ]
  },
  {
   "cell_type": "code",
   "execution_count": 8,
   "id": "93858e35-c10c-45b6-b82a-c8ebcb93a40d",
   "metadata": {},
   "outputs": [
    {
     "data": {
      "text/plain": [
       "[1, 3, 5, 7, 9]"
      ]
     },
     "execution_count": 8,
     "metadata": {},
     "output_type": "execute_result"
    }
   ],
   "source": [
    "list(range(1, 10, 2))"
   ]
  },
  {
   "cell_type": "code",
   "execution_count": 9,
   "id": "843fda22-c008-4a8e-9bde-17fbbb0aa83b",
   "metadata": {},
   "outputs": [
    {
     "data": {
      "text/plain": [
       "[-10, -8, -6, -4, -2]"
      ]
     },
     "execution_count": 9,
     "metadata": {},
     "output_type": "execute_result"
    }
   ],
   "source": [
    "list(range(-10, -1, 2))"
   ]
  },
  {
   "cell_type": "markdown",
   "id": "74344eea-0937-45ae-a09d-cab44e3d8b2c",
   "metadata": {
    "jp-MarkdownHeadingCollapsed": true
   },
   "source": [
    "### 12.4 <strong><tt>for</strong></tt> statement\n",
    "\n",
    "The <strong><tt>for</strong></tt> statement in Python is used to create loops that allow you to iterate over sequences"
   ]
  },
  {
   "cell_type": "code",
   "execution_count": 11,
   "id": "fe58f907-862f-441d-84dc-12b48cfb31a0",
   "metadata": {},
   "outputs": [
    {
     "name": "stdout",
     "output_type": "stream",
     "text": [
      "0 1 2 3 4 5 6 7 8 9 "
     ]
    }
   ],
   "source": [
    "for i in range(10):\n",
    "    print(i, end=' ')"
   ]
  },
  {
   "cell_type": "code",
   "execution_count": 36,
   "id": "27e4755b-bd4a-4337-a2f3-3e2751981c6e",
   "metadata": {},
   "outputs": [
    {
     "name": "stdout",
     "output_type": "stream",
     "text": [
      "W-o-r-d-s-"
     ]
    }
   ],
   "source": [
    "for letter in \"Words\":\n",
    "    print(letter, end=\"-\")"
   ]
  },
  {
   "cell_type": "code",
   "execution_count": 24,
   "id": "38503313-aaa3-4092-9432-520943c22379",
   "metadata": {},
   "outputs": [
    {
     "name": "stdout",
     "output_type": "stream",
     "text": [
      "0-1-2-3-4-"
     ]
    }
   ],
   "source": [
    "# List \n",
    "sampleList = list(range(0,5))\n",
    "\n",
    "for ele in sampleList:\n",
    "    print(ele, end='-')"
   ]
  },
  {
   "cell_type": "code",
   "execution_count": 1,
   "id": "adb8cb53-84c1-4cc4-859a-c1d75d481da6",
   "metadata": {},
   "outputs": [
    {
     "name": "stdout",
     "output_type": "stream",
     "text": [
      "Air-Water-Earth-"
     ]
    }
   ],
   "source": [
    "sampleList = [\"Air\", \"Water\", \"Earth\" ]\n",
    "\n",
    "for ele in sampleList:\n",
    "    print(ele, end='-')"
   ]
  },
  {
   "cell_type": "code",
   "execution_count": 25,
   "id": "69d65879-9bec-441a-a16f-6f9dc4555f79",
   "metadata": {},
   "outputs": [
    {
     "name": "stdout",
     "output_type": "stream",
     "text": [
      "0*1*2*3*4*"
     ]
    }
   ],
   "source": [
    "# Tuple\n",
    "sampleTuple = tuple(range(0,5))\n",
    "\n",
    "for ele in sampleTuple:\n",
    "    print(ele, end='*')"
   ]
  },
  {
   "cell_type": "code",
   "execution_count": 27,
   "id": "3db2a7a6-1e16-4d0a-a140-67b937093afd",
   "metadata": {},
   "outputs": [
    {
     "name": "stdout",
     "output_type": "stream",
     "text": [
      "1 One\n",
      "2 Two\n"
     ]
    }
   ],
   "source": [
    "# Dict\n",
    "sampleDict = {1:\"One\", 2:\"Two\"}\n",
    "\n",
    "for key, value in sampleDict.items():\n",
    "    print(key, value)"
   ]
  },
  {
   "cell_type": "markdown",
   "id": "3f4509f1-aca4-4143-88bb-fa8efebd3b36",
   "metadata": {},
   "source": [
    "The zip function in Python is used to combine two or more iterables (such as lists, tuples, or strings) element-wise.\n",
    "It creates <br> an iterator that generates tuples where each tuple contains elements from the input iterables at the corresponding positions. "
   ]
  },
  {
   "cell_type": "code",
   "execution_count": 5,
   "id": "4731915f-da5c-4343-9f69-d660ff979b31",
   "metadata": {},
   "outputs": [
    {
     "name": "stdout",
     "output_type": "stream",
     "text": [
      "(1, 'One')\n",
      "(2, 'Two')\n",
      "1 One\n",
      "2 Two\n"
     ]
    }
   ],
   "source": [
    "# Zip\n",
    "intList = [1, 2]\n",
    "strList = [\"One\", \"Two\"]\n",
    "\n",
    "for ele in zip(intList, strList):\n",
    "    print(ele)\n",
    "    \n",
    "for k,v in zip(intList, strList):\n",
    "    print(k,v)"
   ]
  },
  {
   "cell_type": "markdown",
   "id": "4fce6414-0d92-4230-a778-9aa88f4501a5",
   "metadata": {},
   "source": [
    "<strong><tt>enumerate</strong></tt> is a built-in function that allows you to iterate over an iterable (e.g., a list, tuple, or string)\n",
    "while keeping track of the <br>current iteration's index. "
   ]
  },
  {
   "cell_type": "code",
   "execution_count": 34,
   "id": "9cd7e367-70f5-42b0-984d-e229809edf02",
   "metadata": {},
   "outputs": [
    {
     "name": "stdout",
     "output_type": "stream",
     "text": [
      "0 Cat\n",
      "1 Dog\n"
     ]
    }
   ],
   "source": [
    "# Enumerate\n",
    "animalList = [\"Cat\", \"Dog\"]\n",
    "animalObj = zip(animalList)\n",
    "\n",
    "for idx, (animal,) in enumerate(animalObj):\n",
    "    print(idx, animal)"
   ]
  },
  {
   "cell_type": "markdown",
   "id": "c6f7bf84-d2ff-43d8-a0b2-c1150adcd569",
   "metadata": {
    "jp-MarkdownHeadingCollapsed": true
   },
   "source": [
    "### 12.5 <strong><tt>while</strong></tt> statement\n",
    "The while statement in Python is used to create loops that continue to execute as long as a certain condition is true."
   ]
  },
  {
   "cell_type": "code",
   "execution_count": 12,
   "id": "1b84188f-a415-45ee-9445-102e44726475",
   "metadata": {},
   "outputs": [
    {
     "name": "stdout",
     "output_type": "stream",
     "text": [
      "5 4 3 2 1 "
     ]
    }
   ],
   "source": [
    "n = 5\n",
    "while(n):\n",
    "    print(n, end=\" \")\n",
    "    n -= 1"
   ]
  },
  {
   "cell_type": "markdown",
   "id": "10f82d12-ded6-46b1-be70-acd4daeddaa8",
   "metadata": {
    "jp-MarkdownHeadingCollapsed": true
   },
   "source": [
    "### 12.6 <strong><tt>pass, break, continue</strong></tt> statements\n",
    "\n",
    "These are the control flow statements used within loops to modify their behavior."
   ]
  },
  {
   "cell_type": "markdown",
   "id": "75d0eb8e-7fb7-4721-867a-ba4d0bef5b59",
   "metadata": {
    "jp-MarkdownHeadingCollapsed": true
   },
   "source": [
    "#### 12.6.1 <strong><tt>pass</strong></tt>\n",
    "\n",
    "The pass statement is a placeholder that does nothing. It's often used when you need a statement for syntactical reasons but don't want to execute any code."
   ]
  },
  {
   "cell_type": "code",
   "execution_count": 2,
   "id": "b478ad9e-fe54-4c82-8d37-6adbc46fc00f",
   "metadata": {},
   "outputs": [],
   "source": [
    "def ImplementLater():\n",
    "    pass\n",
    "\n",
    "ImplementLater()"
   ]
  },
  {
   "cell_type": "markdown",
   "id": "b7a7bb7d-4c01-4d15-bead-72bafc662618",
   "metadata": {
    "jp-MarkdownHeadingCollapsed": true
   },
   "source": [
    "#### 12.6.2 <strong><tt>break</strong></tt>\n",
    "\n",
    "The break statement is used to exit a loop prematurely. When break is encountered within a loop (e.g., for or while), the loop is immediately terminated."
   ]
  },
  {
   "cell_type": "code",
   "execution_count": 15,
   "id": "7aa3b9e7-c12d-4582-8a25-eea0862f6d81",
   "metadata": {},
   "outputs": [
    {
     "name": "stdout",
     "output_type": "stream",
     "text": [
      "0 1 2 3 "
     ]
    }
   ],
   "source": [
    "# break statement is used to terminate the execution of next \n",
    "# statements in the code, and pass the control to call root\n",
    "\n",
    "for i in range(10):\n",
    "    if (i==4):\n",
    "        break\n",
    "    print(i, end=\" \")"
   ]
  },
  {
   "cell_type": "markdown",
   "id": "101ee9e2-2ade-48d5-acac-ea7b7483ca32",
   "metadata": {
    "jp-MarkdownHeadingCollapsed": true
   },
   "source": [
    "#### 12.6.3 <strong><tt>continue</strong></tt>\n",
    "\n",
    "The continue statement is used to skip the current iteration of a loop and move on to the next iteration."
   ]
  },
  {
   "cell_type": "code",
   "execution_count": 4,
   "id": "d41ecf07-ccca-47ab-b15a-02f939e12fed",
   "metadata": {},
   "outputs": [
    {
     "name": "stdout",
     "output_type": "stream",
     "text": [
      "0\n",
      "1\n",
      "2\n",
      "4\n",
      "5\n"
     ]
    }
   ],
   "source": [
    "for i in range(6):\n",
    "    if i == 3:\n",
    "        continue\n",
    "    print(i)"
   ]
  },
  {
   "cell_type": "markdown",
   "id": "f52e2c4e-1bc8-4b32-adbb-e40d82c4b5cd",
   "metadata": {
    "jp-MarkdownHeadingCollapsed": true
   },
   "source": [
    "### Extra"
   ]
  },
  {
   "cell_type": "code",
   "execution_count": 5,
   "id": "c5601ff6-b812-4fd4-bba9-da4e2a6f1eb2",
   "metadata": {},
   "outputs": [
    {
     "name": "stdout",
     "output_type": "stream",
     "text": [
      "C:\\Users\\Admin\\Desktop\\Python_Whole-main\n",
      "C:\\Users\\Admin\\anaconda3\\envs\\jd\\python39.zip\n",
      "C:\\Users\\Admin\\anaconda3\\envs\\jd\\DLLs\n",
      "C:\\Users\\Admin\\anaconda3\\envs\\jd\\lib\n",
      "C:\\Users\\Admin\\anaconda3\\envs\\jd\n",
      "\n",
      "C:\\Users\\Admin\\anaconda3\\envs\\jd\\lib\\site-packages\n",
      "C:\\Users\\Admin\\anaconda3\\envs\\jd\\lib\\site-packages\\win32\n",
      "C:\\Users\\Admin\\anaconda3\\envs\\jd\\lib\\site-packages\\win32\\lib\n",
      "C:\\Users\\Admin\\anaconda3\\envs\\jd\\lib\\site-packages\\Pythonwin\n"
     ]
    }
   ],
   "source": [
    "# When a named module is imported, \n",
    "# the interpreter first searches for a built-in module with that name\n",
    "\n",
    "import sys\n",
    "sys.builtin_module_names\n",
    "\n",
    "a = [print(path) for path in sys.path]"
   ]
  }
 ],
 "metadata": {
  "kernelspec": {
   "display_name": "Python [conda env:jd] *",
   "language": "python",
   "name": "conda-env-jd-py"
  },
  "language_info": {
   "codemirror_mode": {
    "name": "ipython",
    "version": 3
   },
   "file_extension": ".py",
   "mimetype": "text/x-python",
   "name": "python",
   "nbconvert_exporter": "python",
   "pygments_lexer": "ipython3",
   "version": "3.9.18"
  }
 },
 "nbformat": 4,
 "nbformat_minor": 5
}
