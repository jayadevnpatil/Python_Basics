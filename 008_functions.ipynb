{
 "cells": [
  {
   "cell_type": "markdown",
   "id": "7184f4cc-637a-4e48-9c9b-47279d49c0d5",
   "metadata": {},
   "source": [
    "<h1 style=\"text-align:left;color:brown\">\n",
    "    Getting Started With Python 🐍\n",
    "    <span style=\"float:right;font-size:medium\">\n",
    "      [ notebook : 008 ] 🟡🔴\n",
    "    </span>\n",
    "</h1>\n",
    "<span style=\"float:right;font-size:medium\"><tt>Code by : Jayadev Patil</tt></span>"
   ]
  },
  {
   "cell_type": "markdown",
   "id": "19f7bd03-0453-49fa-867a-ea3e8684385d",
   "metadata": {},
   "source": [
    "## <u><strong>Python Basics</strong></u><span style=\"float:right;font-size:medium\"><a href='https://github.com/jayadevnpatil'>github</a></span>\n",
    "This notebook covers <tt><strong>Functions</strong></tt> \n",
    "* <strong><tt>built-in</strong></tt> and <strong><tt>user-defined</strong></tt>\n",
    "* <strong><tt>parameterized functions</strong></tt>\n",
    "* <strong><tt>return types</strong></tt>\n",
    "* <strong><tt>default argument</strong></tt>\n",
    "* <strong><tt>keyword argument</strong></tt>\n",
    "* <strong><tt>variable length arguments</strong></tt>\n",
    "* <strong><tt>variable length keyword arguments</strong></tt>\n",
    "\n",
    "<strong style=\"text-align:left;color:green\">Note : This code can be copied and reproduced for educational purposes.</strong> "
   ]
  },
  {
   "cell_type": "markdown",
   "id": "42f6adef-5f4a-4714-b940-8c05ad12e63a",
   "metadata": {
    "jp-MarkdownHeadingCollapsed": true
   },
   "source": [
    "### 13.1 <strong><tt>built-in</strong></tt> and <strong><tt>user-defined</strong></tt> functions"
   ]
  },
  {
   "cell_type": "markdown",
   "id": "c48d6048-36be-4f00-a05b-b9aa506c91c3",
   "metadata": {},
   "source": [
    "Built in functions are the part of python standard library"
   ]
  },
  {
   "cell_type": "code",
   "execution_count": 1,
   "id": "b47664e6-1d96-4508-b2b5-3045192c7c6a",
   "metadata": {},
   "outputs": [
    {
     "name": "stdout",
     "output_type": "stream",
     "text": [
      "*****\n"
     ]
    },
    {
     "data": {
      "text/plain": [
       "6"
      ]
     },
     "execution_count": 1,
     "metadata": {},
     "output_type": "execute_result"
    }
   ],
   "source": [
    "# built-in\n",
    "print('*'*5)\n",
    "max(1,2,3,4,5,6)"
   ]
  },
  {
   "cell_type": "markdown",
   "id": "42894303-f163-439b-9067-8af95a2fe5fe",
   "metadata": {},
   "source": [
    "User-defined functions are created by the programmer to perform specific tasks"
   ]
  },
  {
   "cell_type": "code",
   "execution_count": 2,
   "id": "2b10856c-480d-40b0-a256-a275e3c822ba",
   "metadata": {},
   "outputs": [
    {
     "name": "stdout",
     "output_type": "stream",
     "text": [
      "Hello World!\n"
     ]
    }
   ],
   "source": [
    "# user defined\n",
    "def HelloWorld():\n",
    "    print(\"Hello World!\")\n",
    "\n",
    "HelloWorld()"
   ]
  },
  {
   "cell_type": "markdown",
   "id": "f5013c8c-5379-4856-a7eb-452f4e48c9a7",
   "metadata": {
    "jp-MarkdownHeadingCollapsed": true
   },
   "source": [
    "### 13.2 parameterized functions\n",
    "Parameterized functions are functions that accept one or more parameters to perform specific tasks or computations"
   ]
  },
  {
   "cell_type": "code",
   "execution_count": 3,
   "id": "c5588e1c-e5b8-49c6-87e9-7ff8d7b39271",
   "metadata": {},
   "outputs": [
    {
     "name": "stdout",
     "output_type": "stream",
     "text": [
      "Hello World!\n"
     ]
    }
   ],
   "source": [
    "# Function with no argument\n",
    "def HelloWorld():\n",
    "    print(\"Hello World!\")\n",
    "    \n",
    "HelloWorld()"
   ]
  },
  {
   "cell_type": "code",
   "execution_count": 4,
   "id": "36ff3e94-d194-4b3c-962f-27fc6f1bd59d",
   "metadata": {},
   "outputs": [
    {
     "name": "stdout",
     "output_type": "stream",
     "text": [
      "25\n"
     ]
    }
   ],
   "source": [
    "# Function with one argument\n",
    "def OneInputSquareIt(n):\n",
    "    return pow(n,2)\n",
    "    \n",
    "print(OneInputSquareIt(5))"
   ]
  },
  {
   "cell_type": "code",
   "execution_count": 5,
   "id": "2ea51007-606d-4e82-9c0a-6ac62d0f74ed",
   "metadata": {},
   "outputs": [
    {
     "name": "stdout",
     "output_type": "stream",
     "text": [
      "50\n"
     ]
    }
   ],
   "source": [
    "# Function with two argument\n",
    "def TwoInputMultiplyThem(m,n):\n",
    "    return m*n\n",
    "    \n",
    "print(TwoInputMultiplyThem(10,5))"
   ]
  },
  {
   "cell_type": "code",
   "execution_count": 6,
   "id": "73a22015-f42f-42aa-ae73-41df5a889387",
   "metadata": {},
   "outputs": [
    {
     "name": "stdout",
     "output_type": "stream",
     "text": [
      "6\n"
     ]
    }
   ],
   "source": [
    "# Function with three argument\n",
    "def ThreeInputAddAll(x,y,z):\n",
    "    return x+y+z\n",
    "    \n",
    "print(ThreeInputAddAll(1,2,3))"
   ]
  },
  {
   "cell_type": "markdown",
   "id": "14f1a391-4fa3-46c2-9792-5d6a071cf4c2",
   "metadata": {
    "jp-MarkdownHeadingCollapsed": true
   },
   "source": [
    "### 13.3 Functions with various return types"
   ]
  },
  {
   "cell_type": "code",
   "execution_count": 7,
   "id": "16cd60ae-0c63-4a75-82f1-985c5ec1079c",
   "metadata": {},
   "outputs": [
    {
     "name": "stdout",
     "output_type": "stream",
     "text": [
      "Hello\n"
     ]
    }
   ],
   "source": [
    "# Function with one return type\n",
    "def ReturnOne():\n",
    "    return \"Hello\"\n",
    "    \n",
    "print(ReturnOne())"
   ]
  },
  {
   "cell_type": "code",
   "execution_count": 8,
   "id": "0fbe8b15-5910-498b-9382-e1d571274cd5",
   "metadata": {},
   "outputs": [
    {
     "name": "stdout",
     "output_type": "stream",
     "text": [
      "<class 'tuple'>\n",
      "(10, True)\n"
     ]
    }
   ],
   "source": [
    "# Function with two return types\n",
    "def returnTwo():\n",
    "    return 10, True\n",
    "    \n",
    "print(type(returnTwo()))\n",
    "print(returnTwo())"
   ]
  },
  {
   "cell_type": "code",
   "execution_count": 9,
   "id": "97e1e021-918c-4325-96eb-370d228c1c02",
   "metadata": {},
   "outputs": [
    {
     "name": "stdout",
     "output_type": "stream",
     "text": [
      "(False, 3.12, 'Bangalore')\n"
     ]
    }
   ],
   "source": [
    "# Function with  three return types\n",
    "def returnThree():\n",
    "    return False, 3.12, \"Bangalore\"\n",
    "    \n",
    "print(returnThree())"
   ]
  },
  {
   "cell_type": "code",
   "execution_count": 10,
   "id": "ccf9b394-e6bf-4350-a803-28400f63a28b",
   "metadata": {},
   "outputs": [
    {
     "name": "stdout",
     "output_type": "stream",
     "text": [
      "[0, 1, 2, 3, 4]\n",
      "(0, 1, 2, 3, 4)\n",
      "{0, 1, 2, 3, 4}\n",
      "{'a': 'apple', 'b': 'ball'}\n"
     ]
    }
   ],
   "source": [
    "# return type List\n",
    "def returnList():\n",
    "    return list(range(0,5))\n",
    "print(returnList())\n",
    "\n",
    "# return type tuple\n",
    "def returnTuple():\n",
    "    return tuple(range(0,5))\n",
    "print(returnTuple())\n",
    "\n",
    "# return type set\n",
    "def returnSet():\n",
    "    return set(range(0,5))\n",
    "print(returnSet())\n",
    "\n",
    "# return type dictionary\n",
    "def returnDict():\n",
    "    return {'a':'apple', 'b':'ball'}\n",
    "print(returnDict())"
   ]
  },
  {
   "cell_type": "markdown",
   "id": "853ef6eb-4951-41d3-bc93-2052ad0f2964",
   "metadata": {
    "jp-MarkdownHeadingCollapsed": true
   },
   "source": [
    "### 13.4 Default arguments as function parameters\n",
    "Default arguments allow you to specify a default value for a parameter, which will be used when the caller of the function does not provide a value for that parameter."
   ]
  },
  {
   "cell_type": "code",
   "execution_count": 11,
   "id": "ff3e3d38-47f5-44b3-87fa-a9cf5d1a0d33",
   "metadata": {},
   "outputs": [
    {
     "name": "stdout",
     "output_type": "stream",
     "text": [
      "Good Morning Jayadev\n",
      "Good Evening Jayadev\n"
     ]
    }
   ],
   "source": [
    "# Default Argument\n",
    "def Wish(name, message = \"Good Morning\"):\n",
    "    print(message,name)\n",
    "\n",
    "Wish(\"Jayadev\")\n",
    "Wish(\"Jayadev\", \"Good Evening\")\n",
    "\n",
    "# Note : Below Syntax is not allowed\n",
    "# def Wish(message = \"Good Morning\", name):\n",
    "#                                     ^\n",
    "# SyntaxError: non-default argument follows default argument"
   ]
  },
  {
   "cell_type": "code",
   "execution_count": 12,
   "id": "ac247868-84ea-4577-9286-4d464fbe9db4",
   "metadata": {},
   "outputs": [
    {
     "name": "stdout",
     "output_type": "stream",
     "text": [
      "first second\n",
      "first second\n",
      "second first\n"
     ]
    }
   ],
   "source": [
    "def LookOrder(x = \"first\", y = \"second\"):\n",
    "    print(x,y)\n",
    "\n",
    "LookOrder()\n",
    "LookOrder(\"first\", \"second\")\n",
    "LookOrder(\"second\", \"first\")"
   ]
  },
  {
   "cell_type": "markdown",
   "id": "e71ef3b3-0bb1-43cd-a0e4-7b9743b253c1",
   "metadata": {},
   "source": [
    "### 13.5 Keyword arguments as function parameter\n",
    "Keyword arguments in Python are a way to specify function arguments by their parameter names when calling a function.<br> \n",
    "This allows you to provide arguments in any order, making function calls more explicit and readable."
   ]
  },
  {
   "cell_type": "code",
   "execution_count": 13,
   "id": "a8a34552-2330-4113-9952-90588f4269b5",
   "metadata": {},
   "outputs": [
    {
     "name": "stdout",
     "output_type": "stream",
     "text": [
      "first second\n",
      "first second\n",
      "first second\n"
     ]
    }
   ],
   "source": [
    "# Key Word Argument\n",
    "def LookOrder(x = \"first\", y = \"second\"):\n",
    "    print(x,y)\n",
    "    \n",
    "LookOrder()\n",
    "LookOrder(x = \"first\", y = \"second\")\n",
    "LookOrder(y = \"second\", x =\"first\")"
   ]
  },
  {
   "cell_type": "markdown",
   "id": "38f0e501-c0a3-46a6-9371-e27b7e2420d2",
   "metadata": {},
   "source": [
    "### 13.6 Variable length arguments\n",
    "It allows us to pass a variable number of arguments to a function in Python. This is particularly useful when we\n",
    "<br> don't know in advance how many arguments a function will receive. "
   ]
  },
  {
   "cell_type": "code",
   "execution_count": 14,
   "id": "eb811db1-da22-454d-aa18-3f1c2968c878",
   "metadata": {},
   "outputs": [
    {
     "name": "stdout",
     "output_type": "stream",
     "text": [
      "<class 'tuple'>\n",
      "1 \n",
      "\n",
      "<class 'tuple'>\n",
      "1 2 \n",
      "\n",
      "<class 'tuple'>\n",
      "1 2 3 \n",
      "\n",
      "<class 'tuple'>\n",
      "1 2 3 4 \n",
      "\n"
     ]
    }
   ],
   "source": [
    "# variable length arguements\n",
    "def SayHello(*args):\n",
    "    print(type(args))\n",
    "    for arg in args:\n",
    "        print(arg, end=' ')\n",
    "    print('\\n')\n",
    "\n",
    "SayHello(1)\n",
    "SayHello(1, 2)\n",
    "SayHello(1, 2, 3)\n",
    "SayHello(1, 2, 3, 4)"
   ]
  },
  {
   "cell_type": "markdown",
   "id": "02f39fc0-b188-4fb9-98f4-b724b1acd996",
   "metadata": {},
   "source": [
    "### 13.7 Variable length key-word arguments\n",
    "The **kwargs parameter allows you to pass a variable number of keyword arguments (key-value pairs) to a function."
   ]
  },
  {
   "cell_type": "code",
   "execution_count": 15,
   "id": "2e185ad2-9ec5-46ff-a381-1f52173b8f23",
   "metadata": {},
   "outputs": [
    {
     "name": "stdout",
     "output_type": "stream",
     "text": [
      "<class 'dict'>\n",
      "Hi Ajay [first]\n",
      "--------------------\n",
      "<class 'dict'>\n",
      "Hi Ajay [first]\n",
      "Hi Vijay [second]\n",
      "--------------------\n",
      "<class 'dict'>\n",
      "Hi Ajay [first]\n",
      "Hi Vijay [second]\n",
      "Hi Ramesh [third]\n",
      "--------------------\n",
      "<class 'dict'>\n",
      "Hi Ajay [first]\n",
      "Hi Vijay [second]\n",
      "Hi Ramesh [third]\n",
      "Hi Suresh [fourth]\n",
      "--------------------\n"
     ]
    }
   ],
   "source": [
    "def SayHi(**kwargs):\n",
    "    print(type(kwargs))\n",
    "    for key, value in kwargs.items():\n",
    "        print(\"Hi\",value,\"[%s]\" % key)\n",
    "    print('-'*20)\n",
    "SayHi(first=\"Ajay\")\n",
    "SayHi(first=\"Ajay\", second = \"Vijay\")\n",
    "SayHi(first=\"Ajay\", second = \"Vijay\", third = \"Ramesh\")\n",
    "SayHi(first=\"Ajay\", second = \"Vijay\", third = \"Ramesh\", fourth = \"Suresh\") "
   ]
  },
  {
   "cell_type": "markdown",
   "id": "5ec50a19-fbcd-4180-8420-3fd492430c21",
   "metadata": {},
   "source": [
    "### 13.8 Documenting a function using doc string"
   ]
  },
  {
   "cell_type": "code",
   "execution_count": 16,
   "id": "2c6daf64-4f10-4315-8ac4-d41b057c1ccc",
   "metadata": {},
   "outputs": [
    {
     "name": "stdout",
     "output_type": "stream",
     "text": [
      "Help on function CheckAge in module __main__:\n",
      "\n",
      "CheckAge(age)\n",
      "    This functions checks age of person and returns whether he/she is allowed to vote.\n",
      "    \n",
      "    Args:\n",
      "        age (int) : age of the person to be checked\n",
      "    Returns:\n",
      "        result (str) : message to be returned\n",
      "\n"
     ]
    }
   ],
   "source": [
    "def CheckAge(age):\n",
    "    \"\"\"\n",
    "    This functions checks age of person and returns whether he/she is allowed to vote.\n",
    "\n",
    "    Args:\n",
    "        age (int) : age of the person to be checked\n",
    "    Returns:\n",
    "        result (str) : message to be returned\n",
    "    \"\"\"\n",
    "    if age > 18:\n",
    "        result = \"Allowed\"\n",
    "        return result\n",
    "    else:\n",
    "        result = \"Not Allowed\"\n",
    "        return result\n",
    "        \n",
    "help(CheckAge)"
   ]
  },
  {
   "cell_type": "markdown",
   "id": "e39bf880-5d0f-49d9-b00d-7a634d2dd9d0",
   "metadata": {},
   "source": [
    "### 13.8 Usage of *args and **kwargs in class "
   ]
  },
  {
   "cell_type": "code",
   "execution_count": 17,
   "id": "a9f75414-575a-4fd8-8b58-ce05f53286ac",
   "metadata": {},
   "outputs": [
    {
     "name": "stdout",
     "output_type": "stream",
     "text": [
      "Jayadev\n",
      "Patil\n"
     ]
    }
   ],
   "source": [
    "# Variable length arguements [Check in future]\n",
    "class FullName():\n",
    "    def __init__(self, *arguments):\n",
    "        self.firstName = arguments[0]\n",
    "        self.lastName = arguments[1]\n",
    "jp = FullName(\"Jayadev\",\"Patil\")\n",
    "\n",
    "print(jp.firstName)\n",
    "print(jp.lastName)"
   ]
  },
  {
   "cell_type": "code",
   "execution_count": 18,
   "id": "66befbc2-99aa-4ef7-afcd-762cd36bbf3a",
   "metadata": {},
   "outputs": [
    {
     "name": "stdout",
     "output_type": "stream",
     "text": [
      "Jayadev\n",
      "Patil\n"
     ]
    }
   ],
   "source": [
    "# Variable length keyword arguements [Check in future]\n",
    "class FullName():\n",
    "    def __init__(self, **keyWordArguments):\n",
    "        self.firstName = keyWordArguments[\"fname\"]\n",
    "        self.lastName = keyWordArguments[\"lname\"]\n",
    "jp = FullName(fname = \"Jayadev\",lname = \"Patil\")\n",
    "\n",
    "print(jp.firstName)\n",
    "print(jp.lastName)"
   ]
  }
 ],
 "metadata": {
  "kernelspec": {
   "display_name": "Python [conda env:jd] *",
   "language": "python",
   "name": "conda-env-jd-py"
  },
  "language_info": {
   "codemirror_mode": {
    "name": "ipython",
    "version": 3
   },
   "file_extension": ".py",
   "mimetype": "text/x-python",
   "name": "python",
   "nbconvert_exporter": "python",
   "pygments_lexer": "ipython3",
   "version": "3.9.18"
  }
 },
 "nbformat": 4,
 "nbformat_minor": 5
}
